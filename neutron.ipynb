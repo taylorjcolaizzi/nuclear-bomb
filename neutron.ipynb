{
 "cells": [
  {
   "cell_type": "markdown",
   "id": "ea46ae4a",
   "metadata": {},
   "source": [
    "Writing code that should be working for the nuclear physics project.\n",
    "\n",
    "Spherical bomb. Uranium. Neutrons. Need to work on the collissions and things like that."
   ]
  },
  {
   "cell_type": "code",
   "execution_count": null,
   "id": "93fb8d08",
   "metadata": {},
   "outputs": [],
   "source": [
    "# import necessary libraries\n",
    "import numpy as np # vectors and matrices"
   ]
  },
  {
   "cell_type": "code",
   "execution_count": null,
   "id": "3bd3c3c4",
   "metadata": {},
   "outputs": [],
   "source": [
    "# function for moving neutrons\n",
    "\n",
    "def move_neutron(x_initial, y_initial, z_initial, mean_free_path):\n",
    "    \"\"\"\n",
    "    Calculates the new position of a neutron after moving the mean free path length in a random direction.\n",
    "    Parameters:\n",
    "    x_initial, y_initial, z_initial : float, which are the current coordinates of the neutron.\n",
    "    Returns:\n",
    "    x, y, z : float, which are the new coordinates of the neutron after moving.\n",
    "    \"\"\"\n",
    "\n",
    "    random_vector = np.random.rand(3) # get 3 random values for xyz\n",
    "    unit_vector = random_vector / np.linalg.norm(random_vector) # normalize to 1 before scaling by mean_free_path\n",
    "\n",
    "    x = x_initial + unit_vector[0] * mean_free_path\n",
    "    y = y_initial + unit_vector[1] * mean_free_path\n",
    "    z = z_initial + unit_vector[2] * mean_free_path\n",
    "\n",
    "    # return new position\n",
    "    return x, y, z"
   ]
  },
  {
   "cell_type": "code",
   "execution_count": null,
   "id": "51227939",
   "metadata": {},
   "outputs": [],
   "source": []
  }
 ],
 "metadata": {
  "kernelspec": {
   "display_name": "analysis-python",
   "language": "python",
   "name": "python3"
  },
  "language_info": {
   "name": "python",
   "version": "3.13.8"
  }
 },
 "nbformat": 4,
 "nbformat_minor": 5
}
