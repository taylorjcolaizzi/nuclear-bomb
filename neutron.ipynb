{
 "cells": [
  {
   "cell_type": "markdown",
   "id": "ea46ae4a",
   "metadata": {},
   "source": [
    "Writing code that should be working for the nuclear physics project.\n",
    "\n",
    "Spherical bomb. Uranium. Neutrons. Need to work on the collissions and things like that."
   ]
  },
  {
   "cell_type": "code",
   "execution_count": 1,
   "id": "93fb8d08",
   "metadata": {},
   "outputs": [],
   "source": [
    "# import necessary libraries\n",
    "import numpy as np # vectors and matrices"
   ]
  },
  {
   "cell_type": "code",
   "execution_count": 2,
   "id": "3bd3c3c4",
   "metadata": {},
   "outputs": [],
   "source": [
    "# function for moving neutrons from point a to point b\n",
    "\n",
    "def move_neutron(x_initial, y_initial, z_initial, mean_free_path):\n",
    "    \"\"\"\n",
    "    Calculates the new position of a neutron after moving the mean free path length in a random direction.\n",
    "    Parameters:\n",
    "    x_initial, y_initial, z_initial : float, which are the current coordinates of the neutron.\n",
    "    Returns:\n",
    "    x, y, z : float, which are the new coordinates of the neutron after moving.\n",
    "    \"\"\"\n",
    "\n",
    "    random_vector = np.random.rand(3) # get 3 random values for xyz\n",
    "    unit_vector = random_vector / np.linalg.norm(random_vector) # normalize to 1 before scaling by mean_free_path\n",
    "\n",
    "    x = x_initial + unit_vector[0] * mean_free_path\n",
    "    y = y_initial + unit_vector[1] * mean_free_path\n",
    "    z = z_initial + unit_vector[2] * mean_free_path\n",
    "\n",
    "    # return new position\n",
    "    return x, y, z"
   ]
  },
  {
   "cell_type": "code",
   "execution_count": 3,
   "id": "51227939",
   "metadata": {},
   "outputs": [],
   "source": [
    "# function to tell if neutron is inside the bomb\n",
    "\n",
    "def neutron_inside(x_final, y_final, z_final, bomb_radius):\n",
    "    \"\"\"\n",
    "    Tests the position of a neutron to determine if it is still inside the bomb.\n",
    "    Parameters:\n",
    "    x_final, y_final, z_final : float, current coordinates of the neutron.\n",
    "    bomb_radius : float, is radius of spherical bomb.\n",
    "    Returns: Boolean\n",
    "    True : neutron is still inside the bomb.\n",
    "    False : neutron has escaped the bomb.\n",
    "    \"\"\"\n",
    "\n",
    "    distance_from_center2 = x_final**2 + y_final**2 + z_final**2\n",
    "    if distance_from_center2 > bomb_radius * bomb_radius:\n",
    "        return False # neutron left the bomb\n",
    "    else:\n",
    "        return True # neutron is still inside the bomb"
   ]
  },
  {
   "cell_type": "code",
   "execution_count": 4,
   "id": "61db6429",
   "metadata": {},
   "outputs": [],
   "source": [
    "# function to tell if the neutron fissions or scatters during collission\n",
    "\n",
    "def test_fission(fiss_prob):\n",
    "    \"\"\"\n",
    "    Tests a neutron that's inside the bomb to determine if it fissions or not. Outputs the number of neutrons created as a result.\n",
    "    Parameters:\n",
    "    fiss_prob : float between 0 and 1, which is the probability of fission occurring when a neutron is inside the bomb.\n",
    "    TODO : need to write a function that changes the fission probability, should be based on mean_free_path or something.\n",
    "    TODO : nominally, this is always k = 2. But, we might want other values to add variety.\n",
    "    Returns: Boolean\n",
    "    True : There was fission\n",
    "    False : There was scattering\n",
    "    \"\"\"\n",
    "\n",
    "    random_number = np.random.rand() # Monte Carlo for fission/scatter\n",
    "    if random_number > fiss_prob: # no fission. scatter.\n",
    "        return False\n",
    "    else: # did fission, create 2 new neutrons.\n",
    "        return True"
   ]
  },
  {
   "cell_type": "markdown",
   "id": "4ec13edd",
   "metadata": {},
   "source": [
    "Now, we have functions to move neutrons, test if they're inside the bomb, and test if they fission/scatter. We now just have to create the logic of our program now. Things like how many neutrons to start with, the size of the bomb, mean free path, and fission probability."
   ]
  },
  {
   "cell_type": "code",
   "execution_count": 5,
   "id": "8e912076",
   "metadata": {},
   "outputs": [],
   "source": [
    "INITIAL_NEUTRONS = 10\n",
    "FISSION_PROBABILITY = 0.01\n",
    "MEAN_FREE_PATH = 1\n",
    "BOMB_RADIUS = 10"
   ]
  },
  {
   "cell_type": "code",
   "execution_count": null,
   "id": "91464537",
   "metadata": {},
   "outputs": [],
   "source": []
  }
 ],
 "metadata": {
  "kernelspec": {
   "display_name": "analysis-python",
   "language": "python",
   "name": "python3"
  },
  "language_info": {
   "codemirror_mode": {
    "name": "ipython",
    "version": 3
   },
   "file_extension": ".py",
   "mimetype": "text/x-python",
   "name": "python",
   "nbconvert_exporter": "python",
   "pygments_lexer": "ipython3",
   "version": "3.13.8"
  }
 },
 "nbformat": 4,
 "nbformat_minor": 5
}
