{
 "cells": [
  {
   "cell_type": "markdown",
   "id": "205f122c",
   "metadata": {},
   "source": [
    "Going to try with master equations and markov chains now"
   ]
  },
  {
   "cell_type": "code",
   "execution_count": 34,
   "id": "d1b89f57",
   "metadata": {},
   "outputs": [],
   "source": [
    "initial_neutrons = 100\n",
    "first_neutrons = 0\n",
    "second_neutrons = 0\n",
    "exit_neutrons = 0"
   ]
  },
  {
   "cell_type": "code",
   "execution_count": 35,
   "id": "22b60a05",
   "metadata": {},
   "outputs": [
    {
     "name": "stdout",
     "output_type": "stream",
     "text": [
      "2\n"
     ]
    }
   ],
   "source": [
    "fission_rate = 0.1\n",
    "exit_rate = 0.1\n",
    "scatter_rate = 1 - fission_rate - exit_rate\n",
    "# need rate to add to unity\n",
    "\n",
    "def k_number():\n",
    "    import numpy as np\n",
    "    return round(np.random.rand()*3)\n",
    "\n",
    "print(k_number())"
   ]
  },
  {
   "cell_type": "code",
   "execution_count": 37,
   "id": "13232502",
   "metadata": {},
   "outputs": [
    {
     "name": "stdout",
     "output_type": "stream",
     "text": [
      "neutrons are: 9 11 14 62\n",
      "diff in N 3 3\n",
      "neutrons are: 7 10 12 65\n",
      "diff in N 3 2\n",
      "neutrons are: 5 9 12 68\n",
      "diff in N 3 4\n",
      "neutrons are: 4 8 12 70\n",
      "diff in N 4 4\n",
      "neutrons are: 4 7 11 72\n",
      "diff in N 4 4\n",
      "neutrons are: 3 6 10 74\n",
      "diff in N 3 4\n",
      "neutrons are: 2 5 9 76\n",
      "diff in N 3 4\n",
      "neutrons are: 2 5 8 77\n",
      "diff in N 3 3\n",
      "neutrons are: 1 4 6 78\n",
      "diff in N 2 3\n",
      "neutrons are: 1 3 5 79\n",
      "diff in N 2 2\n"
     ]
    }
   ],
   "source": [
    "total_time = 10\n",
    "\n",
    "for t in range(total_time):\n",
    "    initial_neutrons = initial_neutrons -initial_neutrons*fission_rate -initial_neutrons*exit_rate\n",
    "    first_neutrons = first_neutrons + initial_neutrons*fission_rate*k_number() - first_neutrons*exit_rate -first_neutrons*fission_rate\n",
    "    second_neutrons = second_neutrons+ first_neutrons*fission_rate*k_number() - second_neutrons*exit_rate -second_neutrons*fission_rate\n",
    "    exit_neutrons = exit_neutrons+exit_rate*(initial_neutrons+first_neutrons+second_neutrons)\n",
    "    print('neutrons are:', round(initial_neutrons), round(first_neutrons), round(second_neutrons), round(exit_neutrons))\n",
    "    print('diff in N', round(first_neutrons-initial_neutrons), round(second_neutrons-first_neutrons))"
   ]
  },
  {
   "cell_type": "code",
   "execution_count": null,
   "id": "f7f7b06f",
   "metadata": {},
   "outputs": [],
   "source": []
  }
 ],
 "metadata": {
  "kernelspec": {
   "display_name": "analysis-python",
   "language": "python",
   "name": "python3"
  },
  "language_info": {
   "codemirror_mode": {
    "name": "ipython",
    "version": 3
   },
   "file_extension": ".py",
   "mimetype": "text/x-python",
   "name": "python",
   "nbconvert_exporter": "python",
   "pygments_lexer": "ipython3",
   "version": "3.13.8"
  }
 },
 "nbformat": 4,
 "nbformat_minor": 5
}
